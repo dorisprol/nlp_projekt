{
 "cells": [
  {
   "cell_type": "code",
   "execution_count": 280,
   "metadata": {},
   "outputs": [],
   "source": [
    "import string\n",
    "import os\n",
    "from tqdm import tqdm\n",
    "\n",
    "import torch\n",
    "import torch.nn as nn\n",
    "import torch.optim as optim\n",
    "import torch.functional as F\n",
    "\n",
    "import matplotlib.pyplot as plt\n",
    "import seaborn as sns\n",
    "import pandas as pd\n",
    "\n",
    "from sklearn.model_selection import train_test_split\n",
    "import time\n",
    "import math"
   ]
  },
  {
   "cell_type": "markdown",
   "metadata": {},
   "source": [
    "## Loading data"
   ]
  },
  {
   "cell_type": "code",
   "execution_count": 115,
   "metadata": {},
   "outputs": [],
   "source": [
    "acc_data = pd.read_csv('accented_data.csv', index_col=0)\n",
    "unacc_data = pd.read_csv('unaccented_data.csv', index_col=0)"
   ]
  },
  {
   "cell_type": "markdown",
   "metadata": {},
   "source": [
    "note: some positions are wrongly annotated due to the fact that in some words č,ć,đ,š or ž appear before the accent and therefore their position is marked"
   ]
  },
  {
   "cell_type": "code",
   "execution_count": 116,
   "metadata": {},
   "outputs": [
    {
     "data": {
      "text/plain": [
       "'abòrtus'"
      ]
     },
     "execution_count": 116,
     "metadata": {},
     "output_type": "execute_result"
    }
   ],
   "source": [
    "acc_data['Word'][10]"
   ]
  },
  {
   "cell_type": "markdown",
   "metadata": {},
   "source": [
    "#### ONE HOT VECTOR EMBEDDING for letters"
   ]
  },
  {
   "cell_type": "code",
   "execution_count": 117,
   "metadata": {},
   "outputs": [],
   "source": [
    "\n",
    "all_letters = string.ascii_letters + 'čćđšžČĆĐŠŽ .,;\\'' # can be lowercase or uppercase letters of English alphabet, whitespace or interpunction marks\n",
    "n_letters = len(all_letters)\n",
    "\n",
    "# index of a letter in string all_letters for one-hot encoding\n",
    "def letter_to_idx(letter):\n",
    "    return all_letters.find(letter)\n",
    "\n",
    "\n",
    "#returns tensor of size <word_length x 1 x n_letters>.\n",
    "def word_to_tensor(word):\n",
    "    tensor = torch.zeros(len(word),1,n_letters)\n",
    "    for letter_index, letter in enumerate(word):\n",
    "        tensor[letter_index][0][letter_to_idx(letter)] = 1\n",
    "    return tensor\n"
   ]
  },
  {
   "cell_type": "code",
   "execution_count": 118,
   "metadata": {},
   "outputs": [
    {
     "name": "stdout",
     "output_type": "stream",
     "text": [
      "torch.Size([6, 1, 67])\n",
      "tensor([[0., 0., 0., 0., 1., 0., 0., 0., 0., 0., 0., 0., 0., 0., 0., 0., 0., 0.,\n",
      "         0., 0., 0., 0., 0., 0., 0., 0., 0., 0., 0., 0., 0., 0., 0., 0., 0., 0.,\n",
      "         0., 0., 0., 0., 0., 0., 0., 0., 0., 0., 0., 0., 0., 0., 0., 0., 0., 0.,\n",
      "         0., 0., 0., 0., 0., 0., 0., 0., 0., 0., 0., 0., 0.]])\n",
      "55\n"
     ]
    }
   ],
   "source": [
    "print(word_to_tensor(unacc_data['Word'][10]).shape)\n",
    "print(word_to_tensor(unacc_data['Word'][10])[2])\n",
    "print(letter_to_idx('š'))"
   ]
  },
  {
   "cell_type": "markdown",
   "metadata": {},
   "source": [
    "#### Simple RNN with 2 linear layers and log softmax "
   ]
  },
  {
   "cell_type": "code",
   "execution_count": 196,
   "metadata": {},
   "outputs": [],
   "source": [
    "class RNN(nn.Module):\n",
    "    def __init__(self, input_size, hidden_size, output_size):\n",
    "        super(RNN, self).__init__()\n",
    "        self.hidden_size = hidden_size\n",
    "        self.i2h = nn.Linear(input_size+hidden_size,hidden_size)\n",
    "        self.i2o = nn.Linear(input_size+hidden_size,output_size)\n",
    "        self.softmax = nn.LogSoftmax(dim=1)\n",
    "        \n",
    "    def forward(self, input, hidden):\n",
    "        combined = torch.cat((input, hidden),1)\n",
    "        hidden = self.i2h(combined)\n",
    "        output = self.i2o(combined)\n",
    "        output = self.softmax(output)\n",
    "        return output, hidden\n",
    "    \n",
    "    def init_hidden(self):\n",
    "        return torch.zeros(1, self.hidden_size)\n",
    "\n",
    "\n",
    "n_categories = 17 #suppose no word is longer than 16 letters\n",
    "hidden_size = 128\n",
    "rnn = RNN(n_letters, hidden_size, n_categories)"
   ]
  },
  {
   "cell_type": "code",
   "execution_count": 173,
   "metadata": {},
   "outputs": [
    {
     "name": "stdout",
     "output_type": "stream",
     "text": [
      "tensor([[-2.8428, -2.8443, -2.8494, -2.8720, -2.7898, -2.8529, -2.7974, -2.8292,\n",
      "         -2.8437, -2.7897, -2.7417, -2.8252, -2.8257, -2.7865, -2.7744, -2.9535,\n",
      "         -2.9738]], grad_fn=<LogSoftmaxBackward0>)\n"
     ]
    }
   ],
   "source": [
    "#example for extracting likelihood for position of the accent considering 1st letter of the word\n",
    "input = word_to_tensor(unacc_data['Word'][10])\n",
    "hidden = torch.zeros(1, hidden_size)\n",
    "\n",
    "output, hidden = rnn(input[0], hidden)\n",
    "print(output)"
   ]
  },
  {
   "cell_type": "code",
   "execution_count": 175,
   "metadata": {},
   "outputs": [
    {
     "name": "stdout",
     "output_type": "stream",
     "text": [
      "Predikcija pozicije naglaska:  10\n",
      "Duljina rijeci:  6\n"
     ]
    }
   ],
   "source": [
    "def most_likely_position(output):\n",
    "    return torch.argmax(output).item()\n",
    "\n",
    "print(\"Predikcija pozicije naglaska: \",most_likely_position(output))\n",
    "print(\"Duljina rijeci: \",len(unacc_data['Word'][10]))"
   ]
  },
  {
   "cell_type": "code",
   "execution_count": 281,
   "metadata": {},
   "outputs": [],
   "source": [
    "x_train, x_test, y_train, y_test = train_test_split(unacc_data['Word'], unacc_data['Accent index'], test_size=0.2, random_state=42, shuffle=True)"
   ]
  },
  {
   "cell_type": "code",
   "execution_count": 176,
   "metadata": {},
   "outputs": [],
   "source": [
    "def random_training_example():\n",
    "\n",
    "    sample = unacc_data.sample(n=1)\n",
    "    acc_position = sample['Accent index'].item()\n",
    "    word = sample['Word'].item()\n",
    "\n",
    "    position_tensor = torch.tensor([acc_position], dtype=torch.long)\n",
    "    word_tensor = word_to_tensor(word)\n",
    "    return acc_position, word, position_tensor, word_tensor\n"
   ]
  },
  {
   "cell_type": "code",
   "execution_count": 177,
   "metadata": {},
   "outputs": [
    {
     "name": "stdout",
     "output_type": "stream",
     "text": [
      "pozicija naglaska = 2 / rijec = dativ\n",
      "pozicija naglaska = 6 / rijec = kajakaštvo\n",
      "pozicija naglaska = 4 / rijec = hematit\n",
      "pozicija naglaska = 4 / rijec = ublažiti\n",
      "pozicija naglaska = 2 / rijec = gerber\n",
      "pozicija naglaska = 5 / rijec = alegoričan\n",
      "pozicija naglaska = 1 / rijec = obavještajni\n",
      "pozicija naglaska = 2 / rijec = radilica\n",
      "pozicija naglaska = 2 / rijec = kapela\n",
      "pozicija naglaska = 2 / rijec = jard\n"
     ]
    }
   ],
   "source": [
    "#example\n",
    "for i in range(10):\n",
    "    acc_position, word, position_tensor, word_tensor = random_training_example()\n",
    "    print(f'pozicija naglaska = {acc_position} / rijec = {word}')"
   ]
  },
  {
   "cell_type": "code",
   "execution_count": 197,
   "metadata": {},
   "outputs": [],
   "source": [
    "criterion = nn.NLLLoss()"
   ]
  },
  {
   "cell_type": "code",
   "execution_count": 198,
   "metadata": {},
   "outputs": [],
   "source": [
    "def train(category_tensor, line_tensor, lr):\n",
    "    hidden = rnn.init_hidden()\n",
    "    rnn.zero_grad()\n",
    "\n",
    "    for i in range(line_tensor.size()[0]):\n",
    "        output, hidden = rnn(line_tensor[i], hidden)\n",
    "\n",
    "    loss = criterion(output, category_tensor)\n",
    "    loss.backward()\n",
    "\n",
    "    # Dodaj gradijente parametara na njihove trenutne vrijednosti, pomnožene sa stopom učenja.\n",
    "    for p in rnn.parameters():\n",
    "        if p.grad is not None:\n",
    "            p.data.add_(p.grad.data, alpha=-lr)\n",
    "\n",
    "    return output, loss.item()"
   ]
  },
  {
   "cell_type": "code",
   "execution_count": 199,
   "metadata": {},
   "outputs": [
    {
     "name": "stderr",
     "output_type": "stream",
     "text": [
      " 10%|█         | 10121/100000 [00:16<02:16, 657.49it/s]"
     ]
    },
    {
     "name": "stdout",
     "output_type": "stream",
     "text": [
      "10000 0.1% 2.0665736198425293 obnoć / 2 ✗ (1)\n"
     ]
    },
    {
     "name": "stderr",
     "output_type": "stream",
     "text": [
      " 20%|██        | 20059/100000 [00:32<02:13, 597.98it/s]"
     ]
    },
    {
     "name": "stdout",
     "output_type": "stream",
     "text": [
      "20000 0.2% 1.5482251644134521 jedinčev / 2 ✗ (4)\n"
     ]
    },
    {
     "name": "stderr",
     "output_type": "stream",
     "text": [
      " 30%|███       | 30087/100000 [00:48<01:48, 647.04it/s]"
     ]
    },
    {
     "name": "stdout",
     "output_type": "stream",
     "text": [
      "30000 0.3% 0.7305673360824585 cehovski / 2 ✓\n"
     ]
    },
    {
     "name": "stderr",
     "output_type": "stream",
     "text": [
      " 40%|████      | 40109/100000 [01:04<01:37, 613.03it/s]"
     ]
    },
    {
     "name": "stdout",
     "output_type": "stream",
     "text": [
      "40000 0.4% 1.838734745979309 obavezan / 2 ✗ (1)\n"
     ]
    },
    {
     "name": "stderr",
     "output_type": "stream",
     "text": [
      " 50%|█████     | 50125/100000 [01:20<01:11, 694.42it/s]"
     ]
    },
    {
     "name": "stdout",
     "output_type": "stream",
     "text": [
      "50000 0.5% 0.2951764762401581 deblo / 2 ✓\n"
     ]
    },
    {
     "name": "stderr",
     "output_type": "stream",
     "text": [
      " 60%|██████    | 60117/100000 [01:36<00:58, 682.51it/s]"
     ]
    },
    {
     "name": "stdout",
     "output_type": "stream",
     "text": [
      "60000 0.6% 1.7247374057769775 imenovati / 1 ✓\n"
     ]
    },
    {
     "name": "stderr",
     "output_type": "stream",
     "text": [
      " 70%|███████   | 70081/100000 [01:51<00:44, 667.22it/s]"
     ]
    },
    {
     "name": "stdout",
     "output_type": "stream",
     "text": [
      "70000 0.7% 0.3855091631412506 ranac / 2 ✓\n"
     ]
    },
    {
     "name": "stderr",
     "output_type": "stream",
     "text": [
      " 80%|████████  | 80076/100000 [02:07<00:30, 645.82it/s]"
     ]
    },
    {
     "name": "stdout",
     "output_type": "stream",
     "text": [
      "80000 0.8% 3.8004047870635986 farmaceut / 2 ✗ (7)\n"
     ]
    },
    {
     "name": "stderr",
     "output_type": "stream",
     "text": [
      " 90%|█████████ | 90116/100000 [02:23<00:16, 612.73it/s]"
     ]
    },
    {
     "name": "stdout",
     "output_type": "stream",
     "text": [
      "90000 0.9% 0.44746485352516174 gatati / 2 ✓\n"
     ]
    },
    {
     "name": "stderr",
     "output_type": "stream",
     "text": [
      "100%|██████████| 100000/100000 [02:39<00:00, 628.11it/s]"
     ]
    },
    {
     "name": "stdout",
     "output_type": "stream",
     "text": [
      "100000 1.0% 3.320204257965088 alegorijski / 2 ✗ (5)\n"
     ]
    },
    {
     "name": "stderr",
     "output_type": "stream",
     "text": [
      "\n"
     ]
    }
   ],
   "source": [
    "lr = 0.005\n",
    "n_iters = 100000\n",
    "print_every = 10000\n",
    "plot_every = 1000\n",
    "\n",
    "current_loss = 0\n",
    "all_losses = []\n",
    "\n",
    "for iteration in tqdm(range(1, n_iters + 1)):\n",
    "\n",
    "    acc_position, word, position_tensor, word_tensor = random_training_example()\n",
    "    output, loss = train(position_tensor, word_tensor, lr = lr)\n",
    "    current_loss += loss\n",
    "\n",
    "\n",
    "    if iteration % print_every == 0:\n",
    "        guess = most_likely_position(output)\n",
    "        correct = '✓' if guess == acc_position else f'✗ ({acc_position})'\n",
    "        print(f'{iteration} {iteration / n_iters}% {loss} {word} / {guess} {correct}')\n",
    "\n",
    "\n",
    "    if iteration % plot_every == 0:\n",
    "        all_losses.append(current_loss / plot_every)\n",
    "        current_loss = 0"
   ]
  },
  {
   "cell_type": "markdown",
   "metadata": {},
   "source": [
    "## Plots"
   ]
  },
  {
   "cell_type": "code",
   "execution_count": 200,
   "metadata": {},
   "outputs": [
    {
     "data": {
      "text/plain": [
       "[<matplotlib.lines.Line2D at 0x7f2b203cbfa0>]"
      ]
     },
     "execution_count": 200,
     "metadata": {},
     "output_type": "execute_result"
    },
    {
     "data": {
      "image/png": "[encoded data removed]",
      "text/plain": [
       "<Figure size 640x480 with 1 Axes>"
      ]
     },
     "metadata": {},
     "output_type": "display_data"
    }
   ],
   "source": [
    "plt.plot(all_losses)"
   ]
  },
  {
   "cell_type": "code",
   "execution_count": 236,
   "metadata": {},
   "outputs": [],
   "source": [
    "\n",
    "# Vrati output danog imena\n",
    "def evaluate(word_tensor):\n",
    "    hidden = rnn.init_hidden()\n",
    "\n",
    "    for i in range(word_tensor.size()[0]):\n",
    "        output, hidden = rnn(word_tensor[i], hidden)\n",
    "\n",
    "    return output\n"
   ]
  },
  {
   "cell_type": "code",
   "execution_count": null,
   "metadata": {},
   "outputs": [],
   "source": [
    "# Tenzor koji će pratiti točno pogođene kategorije.\n",
    "confusion = torch.zeros(n_categories, n_categories)\n",
    "n_confusion = 5000\n",
    "\n",
    "# Pusti primjere kroz mrežu i zabilježi one za koje je predviđena dobra kategorija.\n",
    "for i in range(n_confusion):\n",
    "    # Koristeći pomoćnu funkciju definirati testni primjer,\n",
    "    # izračunati output, odrediti kategoriju za output te \n",
    "    # odgovarajući element u tenzoru confusion povećati za 1.\n",
    "    ### Vaš kod ovdje\n",
    "    acc_position, word, position_tensor, word_tensor = random_training_example()\n",
    "    output = evaluate(word_tensor)\n",
    "    pred = most_likely_position(output)\n",
    "    confusion[int(acc_position)][int(pred)] += 1\n",
    "    ### Kraj vašeg koda.\n"
   ]
  },
  {
   "cell_type": "code",
   "execution_count": null,
   "metadata": {},
   "outputs": [],
   "source": [
    "\n",
    "class_counts = torch.zeros(n_categories, dtype=torch.float)\n",
    "class_weights = torch.zeros(n_categories, dtype=torch.float)\n",
    "\n",
    "for i in range(n_categories):\n",
    "    class_counts[i] = confusion[i][:].sum()\n",
    "\n"
   ]
  },
  {
   "cell_type": "code",
   "execution_count": 250,
   "metadata": {},
   "outputs": [],
   "source": [
    "class_counts[class_counts == 0] = 0.01  # Avoid division by zero"
   ]
  },
  {
   "cell_type": "code",
   "execution_count": 251,
   "metadata": {},
   "outputs": [],
   "source": [
    "class_weights = 1.0 / class_counts\n",
    "class_weights = class_weights / class_weights.sum()\n"
   ]
  },
  {
   "cell_type": "code",
   "execution_count": 254,
   "metadata": {},
   "outputs": [
    {
     "data": {
      "text/plain": [
       "tensor([6.3224e-03, 1.1596e-03, 2.1397e-04, 1.4468e-03, 7.2798e-04, 1.1538e-03,\n",
       "        1.2892e-03, 1.6194e-03, 2.7804e-03, 4.9100e-03, 7.4442e-03, 1.4888e-02,\n",
       "        3.2967e-02, 1.5385e-01, 1.5385e-01, 4.6154e-01, 1.5385e-01])"
      ]
     },
     "execution_count": 254,
     "metadata": {},
     "output_type": "execute_result"
    }
   ],
   "source": [
    "class_weights"
   ]
  },
  {
   "cell_type": "code",
   "execution_count": 253,
   "metadata": {},
   "outputs": [],
   "source": [
    "\n",
    "# Normalizacija dijeljenjem svakog retka sumom tog retka.\n",
    "for i in range(0,n_categories):\n",
    "    confusion[i] = confusion[i] / confusion[i].sum()\n"
   ]
  },
  {
   "cell_type": "code",
   "execution_count": 255,
   "metadata": {},
   "outputs": [
    {
     "data": {
      "text/plain": [
       "<Axes: >"
      ]
     },
     "execution_count": 255,
     "metadata": {},
     "output_type": "execute_result"
    },
    {
     "data": {
      "image/png": "[encoded data removed]",
      "text/plain": [
       "<Figure size 640x480 with 2 Axes>"
      ]
     },
     "metadata": {},
     "output_type": "display_data"
    }
   ],
   "source": [
    "# Heatmap omogućuje \"ljepši\" prikaz matrice zabune\n",
    "positions = unacc_data['Accent index'].unique().tolist()\n",
    "positions.sort()\n",
    "sns.heatmap(confusion, xticklabels=positions, yticklabels=positions)"
   ]
  },
  {
   "cell_type": "markdown",
   "metadata": {},
   "source": [
    "## User test"
   ]
  },
  {
   "cell_type": "code",
   "execution_count": 257,
   "metadata": {},
   "outputs": [
    {
     "name": "stdout",
     "output_type": "stream",
     "text": [
      "\n",
      "> da\n",
      "(-0.534) 0\n",
      "(-1.648) 2\n",
      "(-3.266) 4\n",
      "\n",
      "> planina\n",
      "(-0.505) 2\n",
      "(-2.066) 4\n",
      "(-2.204) 5\n",
      "\n",
      "> čaša\n",
      "(-0.874) 2\n",
      "(-1.610) 0\n",
      "(-2.608) 5\n"
     ]
    }
   ],
   "source": [
    "def predict(input_word, n_predictions=3):\n",
    "    print(f'\\n> {input_word}')\n",
    "    with torch.no_grad():\n",
    "        output = evaluate(word_to_tensor(input_word))\n",
    "\n",
    "        # Dohvati najizglednijih n kategorija\n",
    "        topv, topi = output.topk(n_predictions, 1, True)\n",
    "        predictions = []\n",
    "\n",
    "        for i in range(n_predictions):\n",
    "            value = topv[0][i].item() #dohvati vrijednost vjerodostojnosti\n",
    "            print(f'({value:.3f}) {topi[0][i].item()}')\n",
    "            predictions.append([value, topi[0][i].item()])\n",
    "\n",
    "predict('da')\n",
    "predict('planina')\n",
    "predict('čaša')"
   ]
  },
  {
   "cell_type": "code",
   "execution_count": 189,
   "metadata": {},
   "outputs": [],
   "source": [
    "class RNN(nn.Module):\n",
    "    def __init__(self, input_size, hidden_size, output_size):\n",
    "        super(RNN, self).__init__()\n",
    "        self.hidden_size = hidden_size\n",
    "        self.i2h = nn.Linear(input_size+hidden_size,hidden_size)\n",
    "        self.i2o = nn.Linear(input_size+hidden_size,output_size)\n",
    "        self.softmax = nn.LogSoftmax(dim=1)\n",
    "        \n",
    "    def forward(self, input, hidden):\n",
    "        combined = torch.cat((input, hidden),1)\n",
    "        hidden = self.i2h(combined)\n",
    "        output = self.i2o(combined)\n",
    "        output = self.softmax(output)\n",
    "        return output, hidden\n",
    "    \n",
    "    def init_hidden(self):\n",
    "        return torch.zeros(1, self.hidden_size)\n",
    "\n",
    "\n",
    "n_categories = 17 #suppose no word is longer than 16 letters\n",
    "hidden_size = 128*2\n",
    "rnn_2 = RNN(n_letters, hidden_size, n_categories)"
   ]
  },
  {
   "cell_type": "code",
   "execution_count": 258,
   "metadata": {},
   "outputs": [],
   "source": [
    "criterion_2 = nn.NLLLoss(weight=class_weights)"
   ]
  },
  {
   "cell_type": "code",
   "execution_count": 259,
   "metadata": {},
   "outputs": [],
   "source": [
    "def train_2(category_tensor, line_tensor, lr):\n",
    "    hidden = rnn_2.init_hidden()\n",
    "    rnn_2.zero_grad(set_to_none=False)\n",
    "\n",
    "    for i in range(line_tensor.size()[0]):\n",
    "        output, hidden = rnn_2(line_tensor[i], hidden)\n",
    "\n",
    "    loss = criterion_2(output, category_tensor)\n",
    "    loss.backward()\n",
    "\n",
    "    # Dodaj gradijente parametara na njihove trenutne vrijednosti, pomnožene sa stopom učenja.\n",
    "    for p in rnn_2.parameters():\n",
    "        p.data.add_(p.grad.data, alpha=-lr)\n",
    "\n",
    "    return output, loss.item()"
   ]
  },
  {
   "cell_type": "code",
   "execution_count": 260,
   "metadata": {},
   "outputs": [
    {
     "name": "stderr",
     "output_type": "stream",
     "text": [
      " 10%|█         | 10083/100000 [00:22<03:34, 419.62it/s]"
     ]
    },
    {
     "name": "stdout",
     "output_type": "stream",
     "text": [
      "10000 0.1% 0.3309519290924072 hajka / 2 ✓\n"
     ]
    },
    {
     "name": "stderr",
     "output_type": "stream",
     "text": [
      " 20%|██        | 20060/100000 [00:43<02:55, 455.44it/s]"
     ]
    },
    {
     "name": "stdout",
     "output_type": "stream",
     "text": [
      "20000 0.2% 1.2907540798187256 heretik / 2 ✗ (4)\n"
     ]
    },
    {
     "name": "stderr",
     "output_type": "stream",
     "text": [
      " 30%|███       | 30088/100000 [01:06<02:38, 440.67it/s]"
     ]
    },
    {
     "name": "stdout",
     "output_type": "stream",
     "text": [
      "30000 0.3% 0.7304807305335999 lakmusov / 2 ✓\n"
     ]
    },
    {
     "name": "stderr",
     "output_type": "stream",
     "text": [
      " 40%|████      | 40084/100000 [01:30<02:21, 422.56it/s]"
     ]
    },
    {
     "name": "stdout",
     "output_type": "stream",
     "text": [
      "40000 0.4% 1.5470374822616577 kadifica / 2 ✗ (4)\n"
     ]
    },
    {
     "name": "stderr",
     "output_type": "stream",
     "text": [
      " 50%|█████     | 50060/100000 [01:55<02:25, 342.10it/s]"
     ]
    },
    {
     "name": "stdout",
     "output_type": "stream",
     "text": [
      "50000 0.5% 2.8646552562713623 germanističin / 6 ✗ (5)\n"
     ]
    },
    {
     "name": "stderr",
     "output_type": "stream",
     "text": [
      " 60%|██████    | 60046/100000 [02:20<01:48, 367.25it/s]"
     ]
    },
    {
     "name": "stdout",
     "output_type": "stream",
     "text": [
      "60000 0.6% 0.8873814344406128 nadbiskupski / 2 ✓\n"
     ]
    },
    {
     "name": "stderr",
     "output_type": "stream",
     "text": [
      " 70%|███████   | 70063/100000 [02:44<01:09, 433.14it/s]"
     ]
    },
    {
     "name": "stdout",
     "output_type": "stream",
     "text": [
      "70000 0.7% 1.2102593183517456 uglas / 2 ✗ (1)\n"
     ]
    },
    {
     "name": "stderr",
     "output_type": "stream",
     "text": [
      " 80%|████████  | 80049/100000 [03:09<00:55, 362.09it/s]"
     ]
    },
    {
     "name": "stdout",
     "output_type": "stream",
     "text": [
      "80000 0.8% 0.16850309073925018 gamad / 2 ✓\n"
     ]
    },
    {
     "name": "stderr",
     "output_type": "stream",
     "text": [
      " 90%|█████████ | 90045/100000 [03:33<00:25, 393.78it/s]"
     ]
    },
    {
     "name": "stdout",
     "output_type": "stream",
     "text": [
      "90000 0.9% 0.17424912750720978 nabavni / 2 ✓\n"
     ]
    },
    {
     "name": "stderr",
     "output_type": "stream",
     "text": [
      "100%|██████████| 100000/100000 [03:58<00:00, 418.72it/s]"
     ]
    },
    {
     "name": "stdout",
     "output_type": "stream",
     "text": [
      "100000 1.0% 0.4693966805934906 padobrančev / 7 ✓\n"
     ]
    },
    {
     "name": "stderr",
     "output_type": "stream",
     "text": [
      "\n"
     ]
    }
   ],
   "source": [
    "lr = 0.005\n",
    "n_iters = 100000\n",
    "print_every = 10000\n",
    "plot_every = 1000\n",
    "\n",
    "current_loss = 0\n",
    "all_losses = []\n",
    "\n",
    "for iteration in tqdm(range(1, n_iters + 1)):\n",
    "\n",
    "    acc_position, word, position_tensor, word_tensor = random_training_example()\n",
    "    output, loss = train_2(position_tensor, word_tensor, lr = lr)\n",
    "    current_loss += loss\n",
    "\n",
    "\n",
    "    if iteration % print_every == 0:\n",
    "        guess = most_likely_position(output)\n",
    "        correct = '✓' if guess == acc_position else f'✗ ({acc_position})'\n",
    "        print(f'{iteration} {iteration / n_iters}% {loss} {word} / {guess} {correct}')\n",
    "\n",
    "\n",
    "    if iteration % plot_every == 0:\n",
    "        all_losses.append(current_loss / plot_every)\n",
    "        current_loss = 0"
   ]
  },
  {
   "cell_type": "code",
   "execution_count": 261,
   "metadata": {},
   "outputs": [
    {
     "data": {
      "text/plain": [
       "[<matplotlib.lines.Line2D at 0x7f2b1bd52d10>]"
      ]
     },
     "execution_count": 261,
     "metadata": {},
     "output_type": "execute_result"
    },
    {
     "data": {
      "image/png": "[encoded data removed]",
      "text/plain": [
       "<Figure size 640x480 with 1 Axes>"
      ]
     },
     "metadata": {},
     "output_type": "display_data"
    }
   ],
   "source": [
    "plt.plot(all_losses)"
   ]
  },
  {
   "cell_type": "code",
   "execution_count": 262,
   "metadata": {},
   "outputs": [],
   "source": [
    "# Vrati output danog imena\n",
    "def evaluate_2(word_tensor):\n",
    "    hidden = rnn_2.init_hidden()\n",
    "\n",
    "    for i in range(word_tensor.size()[0]):\n",
    "        output, hidden = rnn_2(word_tensor[i], hidden)\n",
    "\n",
    "    return output"
   ]
  },
  {
   "cell_type": "code",
   "execution_count": 263,
   "metadata": {},
   "outputs": [],
   "source": [
    "# Tenzor koji će pratiti točno pogođene kategorije.\n",
    "confusion_2 = torch.zeros(n_categories, n_categories)\n",
    "n_confusion = 5000\n",
    "\n",
    "# Pusti primjere kroz mrežu i zabilježi one za koje je predviđena dobra kategorija.\n",
    "for i in range(n_confusion):\n",
    "    # Koristeći pomoćnu funkciju definirati testni primjer,\n",
    "    # izračunati output, odrediti kategoriju za output te \n",
    "    # odgovarajući element u tenzoru confusion povećati za 1.\n",
    "    ### Vaš kod ovdje\n",
    "    acc_position, word, position_tensor, word_tensor = random_training_example()\n",
    "    output = evaluate_2(word_tensor)\n",
    "    pred = most_likely_position(output)\n",
    "    confusion_2[int(acc_position)][int(pred)] += 1\n",
    "    ### Kraj vašeg koda.\n",
    "\n",
    "# Normalizacija dijeljenjem svakog retka sumom tog retka.\n",
    "for i in range(0,n_categories):\n",
    "    confusion[i] = confusion[i] / confusion[i].sum()"
   ]
  },
  {
   "cell_type": "code",
   "execution_count": 264,
   "metadata": {},
   "outputs": [
    {
     "data": {
      "text/plain": [
       "<Axes: >"
      ]
     },
     "execution_count": 264,
     "metadata": {},
     "output_type": "execute_result"
    },
    {
     "data": {
      "image/png": "[encoded data removed]",
      "text/plain": [
       "<Figure size 640x480 with 2 Axes>"
      ]
     },
     "metadata": {},
     "output_type": "display_data"
    }
   ],
   "source": [
    "# Heatmap omogućuje \"ljepši\" prikaz matrice zabune\n",
    "positions = unacc_data['Accent index'].unique().tolist()\n",
    "positions.sort()\n",
    "sns.heatmap(confusion_2, xticklabels=positions, yticklabels=positions)"
   ]
  },
  {
   "cell_type": "code",
   "execution_count": 271,
   "metadata": {},
   "outputs": [],
   "source": [
    "def predict_2(input_word, n_predictions=3):\n",
    "    print(f'\\n> {input_word}')\n",
    "    with torch.no_grad():\n",
    "        output = evaluate_2(word_to_tensor(input_word))\n",
    "\n",
    "        # Dohvati najizglednijih n kategorija\n",
    "        topv, topi = output.topk(n_predictions, 1, True)\n",
    "        predictions = []\n",
    "\n",
    "        for i in range(n_predictions):\n",
    "            value = topv[0][i].item() #dohvati vrijednost vjerodostojnosti\n",
    "            print(f'({value:.3f}) {topi[0][i].item()}')\n",
    "            predictions.append([value, topi[0][i].item()])\n"
   ]
  },
  {
   "cell_type": "code",
   "execution_count": 274,
   "metadata": {},
   "outputs": [
    {
     "name": "stdout",
     "output_type": "stream",
     "text": [
      "\n",
      "> da\n",
      "(-0.905) 2\n",
      "(-1.059) 0\n",
      "(-2.753) 4\n"
     ]
    }
   ],
   "source": [
    "predict_2('da')"
   ]
  },
  {
   "cell_type": "markdown",
   "metadata": {},
   "source": [
    "## GRU"
   ]
  },
  {
   "cell_type": "code",
   "execution_count": null,
   "metadata": {},
   "outputs": [
    {
     "name": "stdout",
     "output_type": "stream",
     "text": [
      "GRU_RNN(\n",
      "  (gru): GRU(67, 128)\n",
      "  (h1): Linear(in_features=128, out_features=128, bias=True)\n",
      "  (h2): Linear(in_features=128, out_features=128, bias=True)\n",
      "  (h3): Linear(in_features=128, out_features=17, bias=True)\n",
      "  (softmax): LogSoftmax(dim=1)\n",
      ")\n"
     ]
    }
   ],
   "source": [
    "class GRU_RNN(nn.Module):\n",
    "    def __init__(self, input_size, hidden_size, output_size):\n",
    "        super(GRU_RNN, self).__init__()\n",
    "        self.hidden_size = hidden_size\n",
    "\n",
    "        self.gru = nn.GRU(input_size, hidden_size)\n",
    "\n",
    "        self.h1 = nn.Linear(hidden_size, hidden_size)\n",
    "        self.h2 = nn.Linear(hidden_size, hidden_size)\n",
    "        self.h3 = nn.Linear(hidden_size, output_size)\n",
    "\n",
    "        self.softmax = nn.LogSoftmax(dim=1)\n",
    "\n",
    "    def forward(self, input, hidden):\n",
    "        gru_output, hidden = self.gru(input, hidden)\n",
    "\n",
    "        output = self.h1(gru_output[-1, :])\n",
    "        output = torch.relu(output)\n",
    "        output = self.h2(output)\n",
    "        output = torch.relu(output)\n",
    "        output = self.h3(output)\n",
    "        output = self.softmax(output)\n",
    "\n",
    "        return output, hidden\n",
    "\n",
    "    def init_hidden(self):\n",
    "        return torch.zeros(1, self.hidden_size)\n",
    "\n",
    "\n",
    "input_size = n_letters  # Number of input features\n",
    "hidden_size = 128\n",
    "output_size = 17  # Number of output classes\n",
    "\n",
    "gru_rnn = GRU_RNN(input_size, hidden_size, output_size)\n",
    "print(gru_rnn)"
   ]
  },
  {
   "cell_type": "code",
   "execution_count": 276,
   "metadata": {},
   "outputs": [],
   "source": [
    "criterion_nl = nn.NLLLoss(weight=class_weights)"
   ]
  },
  {
   "cell_type": "code",
   "execution_count": null,
   "metadata": {},
   "outputs": [],
   "source": [
    "def train_gru(category_tensor, line_tensor, lr):\n",
    "    hidden = gru_rnn.init_hidden()\n",
    "    gru_rnn.zero_grad(set_to_none=False)\n",
    "\n",
    "    for i in range(line_tensor.size()[0]):\n",
    "        output, hidden = rnn_2(line_tensor[i], hidden)\n",
    "\n",
    "    loss = criterion_2(output, category_tensor)\n",
    "    loss.backward()\n",
    "\n",
    "    # Dodaj gradijente parametara na njihove trenutne vrijednosti, pomnožene sa stopom učenja.\n",
    "    for p in rnn_2.parameters():\n",
    "        p.data.add_(p.grad.data, alpha=-lr)\n",
    "\n",
    "    return output, loss.item()"
   ]
  }
 ],
 "metadata": {
  "kernelspec": {
   "display_name": "Python 3",
   "language": "python",
   "name": "python3"
  },
  "language_info": {
   "codemirror_mode": {
    "name": "ipython",
    "version": 3
   },
   "file_extension": ".py",
   "mimetype": "text/x-python",
   "name": "python",
   "nbconvert_exporter": "python",
   "pygments_lexer": "ipython3",
   "version": "3.10.12"
  },
  "orig_nbformat": 4
 },
 "nbformat": 4,
 "nbformat_minor": 2
}
